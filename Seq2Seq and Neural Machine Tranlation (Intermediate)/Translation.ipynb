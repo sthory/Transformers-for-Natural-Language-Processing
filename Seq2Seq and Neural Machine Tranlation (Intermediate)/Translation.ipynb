{
 "cells": [
  {
   "cell_type": "code",
   "execution_count": 1,
   "id": "3b566bae-7c36-45a7-8616-bf433eaebbc3",
   "metadata": {},
   "outputs": [
    {
     "name": "stderr",
     "output_type": "stream",
     "text": [
      "C:\\Users\\sthor\\anaconda3\\envs\\NLP\\lib\\site-packages\\tqdm\\auto.py:21: TqdmWarning: IProgress not found. Please update jupyter and ipywidgets. See https://ipywidgets.readthedocs.io/en/stable/user_install.html\n",
      "  from .autonotebook import tqdm as notebook_tqdm\n",
      "Downloading builder script: 100%|██████████| 4.25k/4.25k [00:00<00:00, 4.27MB/s]\n",
      "Downloading metadata: 100%|██████████| 8.45k/8.45k [00:00<00:00, 120kB/s]\n",
      "Downloading readme: 100%|██████████| 5.10k/5.10k [00:00<?, ?B/s]\n"
     ]
    },
    {
     "name": "stdout",
     "output_type": "stream",
     "text": [
      "Downloading and preparing dataset kde4/en-fr to C:/Users/sthor/.cache/huggingface/datasets/kde4/en-fr-lang1=en,lang2=fr/0.0.0/243129fb2398d5b0b4f7f6831ab27ad84774b7ce374cf10f60f6e1ff331648ac...\n"
     ]
    },
    {
     "name": "stderr",
     "output_type": "stream",
     "text": [
      "Downloading data: 100%|██████████| 7.05M/7.05M [00:05<00:00, 1.28MB/s]\n",
      "                                                                                         \r"
     ]
    },
    {
     "name": "stdout",
     "output_type": "stream",
     "text": [
      "Dataset kde4 downloaded and prepared to C:/Users/sthor/.cache/huggingface/datasets/kde4/en-fr-lang1=en,lang2=fr/0.0.0/243129fb2398d5b0b4f7f6831ab27ad84774b7ce374cf10f60f6e1ff331648ac. Subsequent calls will reuse this data.\n"
     ]
    },
    {
     "name": "stderr",
     "output_type": "stream",
     "text": [
      "100%|██████████| 1/1 [00:00<00:00, 78.66it/s]\n"
     ]
    },
    {
     "data": {
      "text/plain": [
       "DatasetDict({\n",
       "    train: Dataset({\n",
       "        features: ['id', 'translation'],\n",
       "        num_rows: 210173\n",
       "    })\n",
       "})"
      ]
     },
     "execution_count": 1,
     "metadata": {},
     "output_type": "execute_result"
    }
   ],
   "source": [
    "from datasets import load_dataset\n",
    "# possible language pairs: https://opus.nlpl.eu/KDE4.php\n",
    "data = load_dataset(\"kde4\", lang1=\"en\", lang2=\"fr\")\n",
    "data"
   ]
  },
  {
   "cell_type": "code",
   "execution_count": 2,
   "id": "11d6560b-0809-4dfe-93e2-93ab6df613de",
   "metadata": {},
   "outputs": [],
   "source": [
    "small = data[\"train\"].shuffle(seed=42).select(range(1_000))"
   ]
  },
  {
   "cell_type": "code",
   "execution_count": 3,
   "id": "4eab1d46-d9bf-4b70-be83-ca1091477e16",
   "metadata": {},
   "outputs": [],
   "source": [
    "split = small.train_test_split(seed=42)"
   ]
  },
  {
   "cell_type": "code",
   "execution_count": 4,
   "id": "3e501647-d71d-44ac-926f-dd0481ed0f9e",
   "metadata": {},
   "outputs": [
    {
     "data": {
      "text/plain": [
       "{'id': '169005',\n",
       " 'translation': {'en': '& Reduce Tree', 'fr': \"& Refermer l' arborescence\"}}"
      ]
     },
     "execution_count": 4,
     "metadata": {},
     "output_type": "execute_result"
    }
   ],
   "source": [
    "split[\"train\"][0]"
   ]
  },
  {
   "cell_type": "code",
   "execution_count": 5,
   "id": "c5d67bbf-d287-4074-9a53-419faabf26f4",
   "metadata": {},
   "outputs": [
    {
     "name": "stderr",
     "output_type": "stream",
     "text": [
      "Downloading (…)okenizer_config.json: 100%|██████████| 42.0/42.0 [00:00<00:00, 13.6kB/s]\n",
      "C:\\Users\\sthor\\anaconda3\\envs\\NLP\\lib\\site-packages\\huggingface_hub\\file_download.py:133: UserWarning: `huggingface_hub` cache-system uses symlinks by default to efficiently store duplicated files but your machine does not support them in C:\\Users\\sthor\\.cache\\huggingface\\hub. Caching files will still work but in a degraded version that might require more space on your disk. This warning can be disabled by setting the `HF_HUB_DISABLE_SYMLINKS_WARNING` environment variable. For more details, see https://huggingface.co/docs/huggingface_hub/how-to-cache#limitations.\n",
      "To support symlinks on Windows, you either need to activate Developer Mode or to run Python as an administrator. In order to see activate developer mode, see this article: https://docs.microsoft.com/en-us/windows/apps/get-started/enable-your-device-for-development\n",
      "  warnings.warn(message)\n",
      "Downloading (…)lve/main/config.json: 100%|██████████| 1.42k/1.42k [00:00<00:00, 708kB/s]\n",
      "Downloading (…)olve/main/source.spm: 100%|██████████| 778k/778k [00:00<00:00, 2.79MB/s]\n",
      "Downloading (…)olve/main/target.spm: 100%|██████████| 802k/802k [00:00<00:00, 9.19MB/s]\n",
      "Downloading (…)olve/main/vocab.json: 100%|██████████| 1.34M/1.34M [00:00<00:00, 6.79MB/s]\n",
      "C:\\Users\\sthor\\anaconda3\\envs\\NLP\\lib\\site-packages\\transformers\\models\\marian\\tokenization_marian.py:194: UserWarning: Recommended: pip install sacremoses.\n",
      "  warnings.warn(\"Recommended: pip install sacremoses.\")\n"
     ]
    }
   ],
   "source": [
    "from transformers import AutoTokenizer\n",
    "\n",
    "checkpoint = \"Helsinki-NLP/opus-mt-en-fr\"\n",
    "tokenizer = AutoTokenizer.from_pretrained(checkpoint)"
   ]
  },
  {
   "cell_type": "code",
   "execution_count": 6,
   "id": "99f6487b-ce38-4379-b53b-0a5c8ee778c9",
   "metadata": {},
   "outputs": [
    {
     "data": {
      "text/plain": [
       "('You can either pick a file or enter its name in the Location: box.',\n",
       " 'Vous pouvez soit choisir un fichier soit saisir son nom dans la zone de texte Emplacement.')"
      ]
     },
     "execution_count": 6,
     "metadata": {},
     "output_type": "execute_result"
    }
   ],
   "source": [
    "en = split['train'][5]['translation']['en']\n",
    "fr = split['train'][5]['translation']['fr']\n",
    "en, fr"
   ]
  },
  {
   "cell_type": "code",
   "execution_count": 7,
   "id": "db5bda9c-f284-43d8-8ad0-563fe27b6e52",
   "metadata": {},
   "outputs": [
    {
     "data": {
      "text/plain": [
       "{'input_ids': [213, 115, 1828, 8437, 15, 1437, 57, 3307, 96, 1129, 18, 4, 4577, 37, 5311, 3, 0], 'attention_mask': [1, 1, 1, 1, 1, 1, 1, 1, 1, 1, 1, 1, 1, 1, 1, 1, 1]}"
      ]
     },
     "execution_count": 7,
     "metadata": {},
     "output_type": "execute_result"
    }
   ],
   "source": [
    "inputs = tokenizer(en)\n",
    "inputs"
   ]
  },
  {
   "cell_type": "code",
   "execution_count": 8,
   "id": "8afb0ad4-8988-431a-9641-9c39e2403a36",
   "metadata": {},
   "outputs": [
    {
     "data": {
      "text/plain": [
       "{'input_ids': [344, 1069, 345, 4094, 34, 2428, 345, 9315, 113, 689, 31, 8, 1283, 5, 1470, 21708, 3, 0], 'attention_mask': [1, 1, 1, 1, 1, 1, 1, 1, 1, 1, 1, 1, 1, 1, 1, 1, 1, 1]}"
      ]
     },
     "execution_count": 8,
     "metadata": {},
     "output_type": "execute_result"
    }
   ],
   "source": [
    "targets = tokenizer(text_target=fr)\n",
    "targets"
   ]
  },
  {
   "cell_type": "code",
   "execution_count": 9,
   "id": "4b6c83fc-47f4-4bf7-9955-a9687b6f015f",
   "metadata": {},
   "outputs": [
    {
     "data": {
      "text/plain": [
       "['▁Vous',\n",
       " '▁pouvez',\n",
       " '▁soit',\n",
       " '▁choisir',\n",
       " '▁un',\n",
       " '▁fichier',\n",
       " '▁soit',\n",
       " '▁saisir',\n",
       " '▁son',\n",
       " '▁nom',\n",
       " '▁dans',\n",
       " '▁la',\n",
       " '▁zone',\n",
       " '▁de',\n",
       " '▁texte',\n",
       " '▁Emplacement',\n",
       " '.',\n",
       " '</s>']"
      ]
     },
     "execution_count": 9,
     "metadata": {},
     "output_type": "execute_result"
    }
   ],
   "source": [
    "tokenizer.convert_ids_to_tokens(targets['input_ids'])"
   ]
  },
  {
   "cell_type": "code",
   "execution_count": 10,
   "id": "49659669-c0cd-43be-902d-9ff0c15593a8",
   "metadata": {},
   "outputs": [
    {
     "data": {
      "text/plain": [
       "['▁V',\n",
       " 'ous',\n",
       " '▁po',\n",
       " 'uv',\n",
       " 'ez',\n",
       " '▁so',\n",
       " 'it',\n",
       " '▁cho',\n",
       " 'is',\n",
       " 'ir',\n",
       " '▁un',\n",
       " '▁fi',\n",
       " 'chi',\n",
       " 'er',\n",
       " '▁so',\n",
       " 'it',\n",
       " '▁s',\n",
       " 'ais',\n",
       " 'ir',\n",
       " '▁son',\n",
       " '▁no',\n",
       " 'm',\n",
       " '▁dans',\n",
       " '▁la',\n",
       " '▁zone',\n",
       " '▁de',\n",
       " '▁text',\n",
       " 'e',\n",
       " '▁Em',\n",
       " 'placement',\n",
       " '.',\n",
       " '</s>']"
      ]
     },
     "execution_count": 10,
     "metadata": {},
     "output_type": "execute_result"
    }
   ],
   "source": [
    "# wrong language\n",
    "bad_targets = tokenizer(fr)\n",
    "tokenizer.convert_ids_to_tokens(bad_targets['input_ids'])"
   ]
  },
  {
   "cell_type": "code",
   "execution_count": 11,
   "id": "9287e435-465d-4ab0-a0ae-c77c2d820212",
   "metadata": {},
   "outputs": [
    {
     "data": {
      "image/png": "[encoded data removed]",
      "text/plain": [
       "<Figure size 640x480 with 1 Axes>"
      ]
     },
     "metadata": {},
     "output_type": "display_data"
    }
   ],
   "source": [
    "import matplotlib.pyplot as plt\n",
    "\n",
    "train = split['train']['translation']\n",
    "input_lens = [len(tr['en']) for tr in train]\n",
    "\n",
    "plt.hist(input_lens, bins=50);"
   ]
  },
  {
   "cell_type": "code",
   "execution_count": 12,
   "id": "e7c428f1-e736-48c6-963c-7294c864ad35",
   "metadata": {},
   "outputs": [
    {
     "data": {
      "image/png": "[encoded data removed]",
      "text/plain": [
       "<Figure size 640x480 with 1 Axes>"
      ]
     },
     "metadata": {},
     "output_type": "display_data"
    }
   ],
   "source": [
    "target_lens = [len(tr['fr']) for tr in train]\n",
    "plt.hist(target_lens, bins=50);"
   ]
  },
  {
   "cell_type": "code",
   "execution_count": 13,
   "id": "b6d27553-419d-48e1-a965-9650716ba97d",
   "metadata": {},
   "outputs": [],
   "source": [
    "max_input_len = 128\n",
    "max_target_len = 128\n",
    "\n",
    "def tokenizer_fn(batch):\n",
    "  inputs = [x['en'] for x in batch['translation']]\n",
    "  targets = [x['fr'] for x in batch['translation']]\n",
    "\n",
    "  tokenized_inputs = tokenizer(\n",
    "    inputs, max_length=max_input_len, truncation=True)\n",
    "\n",
    "  tokenized_targets = tokenizer(\n",
    "    text_target=targets, max_length=max_target_len, truncation=True)\n",
    "  \n",
    "  tokenized_inputs['labels'] = tokenized_targets['input_ids']\n",
    "  return tokenized_inputs"
   ]
  },
  {
   "cell_type": "code",
   "execution_count": 14,
   "id": "5ba2c28d-91be-4a9c-a947-5dbec99dad07",
   "metadata": {},
   "outputs": [
    {
     "name": "stderr",
     "output_type": "stream",
     "text": [
      "                                                               \r"
     ]
    }
   ],
   "source": [
    "tokenized_datasets = split.map(\n",
    "    tokenizer_fn,\n",
    "    batched=True,\n",
    "    remove_columns=split['train'].column_names,\n",
    ")"
   ]
  },
  {
   "cell_type": "code",
   "execution_count": 21,
   "id": "4b23750a-cba8-4b2c-a4f5-508ce293a5c8",
   "metadata": {},
   "outputs": [
    {
     "data": {
      "text/plain": [
       "[[402, 34933, 29244, 0],\n",
       " [526, 3261, 0],\n",
       " [3492,\n",
       "  3070,\n",
       "  6443,\n",
       "  37,\n",
       "  443,\n",
       "  61,\n",
       "  32,\n",
       "  317,\n",
       "  2203,\n",
       "  4824,\n",
       "  514,\n",
       "  1807,\n",
       "  971,\n",
       "  4,\n",
       "  4124,\n",
       "  3,\n",
       "  0],\n",
       " [2167, 1398, 0],\n",
       " [526, 3261, 11223, 80, 532, 51, 1430, 2652, 0]]"
      ]
     },
     "execution_count": 21,
     "metadata": {},
     "output_type": "execute_result"
    }
   ],
   "source": [
    "tokenized_datasets[\"train\"][\"input_ids\"][:5]"
   ]
  },
  {
   "cell_type": "code",
   "execution_count": 22,
   "id": "61b96ece-54f5-4b60-859b-5b3de1b466a5",
   "metadata": {},
   "outputs": [
    {
     "data": {
      "text/plain": [
       "[[402, 9950, 108, 2240, 14, 6, 38367, 13218, 0],\n",
       " [526, 3261, 0],\n",
       " [34023,\n",
       "  5,\n",
       "  3948,\n",
       "  5,\n",
       "  372,\n",
       "  402,\n",
       "  38492,\n",
       "  350,\n",
       "  823,\n",
       "  95,\n",
       "  13439,\n",
       "  2,\n",
       "  25985,\n",
       "  14,\n",
       "  6,\n",
       "  3996,\n",
       "  3,\n",
       "  0],\n",
       " [6643, 1398, 0],\n",
       " [526,\n",
       "  3261,\n",
       "  15481,\n",
       "  51,\n",
       "  8201,\n",
       "  2468,\n",
       "  80,\n",
       "  532,\n",
       "  51,\n",
       "  1430,\n",
       "  14185,\n",
       "  243,\n",
       "  24,\n",
       "  751,\n",
       "  20447,\n",
       "  28,\n",
       "  44347,\n",
       "  80,\n",
       "  532,\n",
       "  51,\n",
       "  1430,\n",
       "  27,\n",
       "  14,\n",
       "  6,\n",
       "  11800,\n",
       "  5,\n",
       "  898,\n",
       "  526,\n",
       "  3261,\n",
       "  0]]"
      ]
     },
     "execution_count": 22,
     "metadata": {},
     "output_type": "execute_result"
    }
   ],
   "source": [
    "tokenized_datasets[\"train\"][\"labels\"][:5]"
   ]
  },
  {
   "cell_type": "code",
   "execution_count": 23,
   "id": "36db9bb7-9afe-4dc4-8b87-6134b693d618",
   "metadata": {},
   "outputs": [
    {
     "name": "stderr",
     "output_type": "stream",
     "text": [
      "Downloading pytorch_model.bin: 100%|██████████| 301M/301M [00:41<00:00, 7.33MB/s] \n",
      "Downloading (…)neration_config.json: 100%|██████████| 293/293 [00:00<00:00, 96.7kB/s]\n"
     ]
    }
   ],
   "source": [
    "from transformers import AutoModelForSeq2SeqLM\n",
    "\n",
    "model = AutoModelForSeq2SeqLM.from_pretrained(checkpoint)"
   ]
  },
  {
   "cell_type": "code",
   "execution_count": 24,
   "id": "a1c99194-9bc4-405a-a48e-00fa9767eece",
   "metadata": {},
   "outputs": [],
   "source": [
    "from transformers import DataCollatorForSeq2Seq\n",
    "\n",
    "data_collator = DataCollatorForSeq2Seq(tokenizer, model=model)"
   ]
  },
  {
   "cell_type": "code",
   "execution_count": 25,
   "id": "408ba325-7988-485b-9dec-763e9ec3c086",
   "metadata": {},
   "outputs": [
    {
     "data": {
      "text/plain": [
       "[{'input_ids': [526, 3261, 0],\n",
       "  'attention_mask': [1, 1, 1],\n",
       "  'labels': [526, 3261, 0]},\n",
       " {'input_ids': [3492,\n",
       "   3070,\n",
       "   6443,\n",
       "   37,\n",
       "   443,\n",
       "   61,\n",
       "   32,\n",
       "   317,\n",
       "   2203,\n",
       "   4824,\n",
       "   514,\n",
       "   1807,\n",
       "   971,\n",
       "   4,\n",
       "   4124,\n",
       "   3,\n",
       "   0],\n",
       "  'attention_mask': [1, 1, 1, 1, 1, 1, 1, 1, 1, 1, 1, 1, 1, 1, 1, 1, 1],\n",
       "  'labels': [34023,\n",
       "   5,\n",
       "   3948,\n",
       "   5,\n",
       "   372,\n",
       "   402,\n",
       "   38492,\n",
       "   350,\n",
       "   823,\n",
       "   95,\n",
       "   13439,\n",
       "   2,\n",
       "   25985,\n",
       "   14,\n",
       "   6,\n",
       "   3996,\n",
       "   3,\n",
       "   0]}]"
      ]
     },
     "execution_count": 25,
     "metadata": {},
     "output_type": "execute_result"
    }
   ],
   "source": [
    "[tokenized_datasets[\"train\"][i] for i in range(1, 3)]"
   ]
  },
  {
   "cell_type": "code",
   "execution_count": 27,
   "id": "93d2fdfc-afdd-46c5-bcda-ba5904c71791",
   "metadata": {},
   "outputs": [
    {
     "data": {
      "text/plain": [
       "dict_keys(['input_ids', 'attention_mask', 'labels', 'decoder_input_ids'])"
      ]
     },
     "execution_count": 27,
     "metadata": {},
     "output_type": "execute_result"
    }
   ],
   "source": [
    "batch = data_collator([tokenized_datasets[\"train\"][i] for i in range(1, 3)])\n",
    "batch.keys()"
   ]
  },
  {
   "cell_type": "code",
   "execution_count": 28,
   "id": "eb1810e1-ba18-4a0f-b253-77e81a71faaa",
   "metadata": {},
   "outputs": [
    {
     "data": {
      "text/plain": [
       "tensor([[  526,  3261,     0, 59513, 59513, 59513, 59513, 59513, 59513, 59513,\n",
       "         59513, 59513, 59513, 59513, 59513, 59513, 59513],\n",
       "        [ 3492,  3070,  6443,    37,   443,    61,    32,   317,  2203,  4824,\n",
       "           514,  1807,   971,     4,  4124,     3,     0]])"
      ]
     },
     "execution_count": 28,
     "metadata": {},
     "output_type": "execute_result"
    }
   ],
   "source": [
    "batch['input_ids']"
   ]
  },
  {
   "cell_type": "code",
   "execution_count": 29,
   "id": "9a36ca4a-bd84-401c-bf57-68c5f0fc0b31",
   "metadata": {},
   "outputs": [
    {
     "data": {
      "text/plain": [
       "tensor([[  526,  3261,     0,  -100,  -100,  -100,  -100,  -100,  -100,  -100,\n",
       "          -100,  -100,  -100,  -100,  -100,  -100,  -100,  -100],\n",
       "        [34023,     5,  3948,     5,   372,   402, 38492,   350,   823,    95,\n",
       "         13439,     2, 25985,    14,     6,  3996,     3,     0]])"
      ]
     },
     "execution_count": 29,
     "metadata": {},
     "output_type": "execute_result"
    }
   ],
   "source": [
    "batch['labels']"
   ]
  },
  {
   "cell_type": "code",
   "execution_count": 31,
   "id": "e2183778-4a42-4828-a3bf-bc70ef4a72ca",
   "metadata": {},
   "outputs": [
    {
     "data": {
      "text/plain": [
       "tensor([[59513,   526,  3261,     0, 59513, 59513, 59513, 59513, 59513, 59513,\n",
       "         59513, 59513, 59513, 59513, 59513, 59513, 59513, 59513],\n",
       "        [59513, 34023,     5,  3948,     5,   372,   402, 38492,   350,   823,\n",
       "            95, 13439,     2, 25985,    14,     6,  3996,     3]])"
      ]
     },
     "execution_count": 31,
     "metadata": {},
     "output_type": "execute_result"
    }
   ],
   "source": [
    "# think of seq2seq RNNs - the decoder RNN must have \"some\" input\n",
    "# it's just like a language model where we predict the next word from\n",
    "# previous words!\n",
    "batch['decoder_input_ids']"
   ]
  },
  {
   "cell_type": "code",
   "execution_count": 32,
   "id": "fe9db1ec-e458-4c05-834b-b4e4f01d7d9d",
   "metadata": {},
   "outputs": [
    {
     "data": {
      "text/plain": [
       "['<pad>',\n",
       " '▁K',\n",
       " 'DE',\n",
       " '</s>',\n",
       " '<pad>',\n",
       " '<pad>',\n",
       " '<pad>',\n",
       " '<pad>',\n",
       " '<pad>',\n",
       " '<pad>',\n",
       " '<pad>',\n",
       " '<pad>',\n",
       " '<pad>',\n",
       " '<pad>',\n",
       " '<pad>',\n",
       " '<pad>',\n",
       " '<pad>',\n",
       " '<pad>']"
      ]
     },
     "execution_count": 32,
     "metadata": {},
     "output_type": "execute_result"
    }
   ],
   "source": [
    "# the first token is a pad!\n",
    "tokenizer.convert_ids_to_tokens(batch[\"decoder_input_ids\"][0])"
   ]
  },
  {
   "cell_type": "code",
   "execution_count": 33,
   "id": "70ba305e-9853-483b-8518-770857246702",
   "metadata": {},
   "outputs": [
    {
     "data": {
      "text/plain": [
       "['▁K',\n",
       " 'DE',\n",
       " '</s>',\n",
       " '<unk>',\n",
       " '<unk>',\n",
       " '<unk>',\n",
       " '<unk>',\n",
       " '<unk>',\n",
       " '<unk>',\n",
       " '<unk>',\n",
       " '<unk>',\n",
       " '<unk>',\n",
       " '<unk>',\n",
       " '<unk>',\n",
       " '<unk>',\n",
       " '<unk>',\n",
       " '<unk>',\n",
       " '<unk>']"
      ]
     },
     "execution_count": 33,
     "metadata": {},
     "output_type": "execute_result"
    }
   ],
   "source": [
    "# the labels are one step ahead - just like a language model\n",
    "tokenizer.convert_ids_to_tokens(batch[\"labels\"][0])"
   ]
  },
  {
   "cell_type": "code",
   "execution_count": 34,
   "id": "84b281f8-4938-4ddf-b180-8acddaa01900",
   "metadata": {},
   "outputs": [
    {
     "data": {
      "text/plain": [
       "{'id': '47571', 'translation': {'en': 'KDE', 'fr': 'KDE'}}"
      ]
     },
     "execution_count": 34,
     "metadata": {},
     "output_type": "execute_result"
    }
   ],
   "source": [
    "split['train'][1]"
   ]
  },
  {
   "cell_type": "code",
   "execution_count": 35,
   "id": "df5611b3-9458-49bf-8a3a-b3edf656b311",
   "metadata": {},
   "outputs": [],
   "source": [
    "# !pip install sacrebleu bert-score"
   ]
  },
  {
   "cell_type": "code",
   "execution_count": 37,
   "id": "fa9b3d15-3ea5-4cf1-a3f0-47bee9da35de",
   "metadata": {},
   "outputs": [
    {
     "name": "stderr",
     "output_type": "stream",
     "text": [
      "Downloading builder script: 8.10kB [00:00, ?B/s]                       \n"
     ]
    }
   ],
   "source": [
    "from datasets import load_metric\n",
    "\n",
    "bleu_metric = load_metric(\"sacrebleu\")\n",
    "bert_metric = load_metric(\"bertscore\")"
   ]
  },
  {
   "cell_type": "code",
   "execution_count": 38,
   "id": "673549ac-c1df-485a-9a46-82c5d7b0c909",
   "metadata": {},
   "outputs": [
    {
     "data": {
      "text/plain": [
       "{'score': 0.0,\n",
       " 'counts': [3, 2, 1, 0],\n",
       " 'totals': [3, 2, 1, 0],\n",
       " 'precisions': [100.0, 100.0, 100.0, 0.0],\n",
       " 'bp': 1.0,\n",
       " 'sys_len': 3,\n",
       " 'ref_len': 3}"
      ]
     },
     "execution_count": 38,
     "metadata": {},
     "output_type": "execute_result"
    }
   ],
   "source": [
    "# targets must be in a list - as you recall, for bleu there can be multiple\n",
    "# acceptable reference translations\n",
    "bleu_metric.compute(predictions=[\"I love cats\"], references=[[\"I love cats\"]])"
   ]
  },
  {
   "cell_type": "code",
   "execution_count": 39,
   "id": "9cf2ed30-8863-4fd5-aa3b-f7fac557e7f3",
   "metadata": {},
   "outputs": [
    {
     "data": {
      "text/plain": [
       "{'score': 100.00000000000004,\n",
       " 'counts': [12, 11, 10, 9],\n",
       " 'totals': [12, 11, 10, 9],\n",
       " 'precisions': [100.0, 100.0, 100.0, 100.0],\n",
       " 'bp': 1.0,\n",
       " 'sys_len': 12,\n",
       " 'ref_len': 12}"
      ]
     },
     "execution_count": 39,
     "metadata": {},
     "output_type": "execute_result"
    }
   ],
   "source": [
    "s = \"Marian is an efficient NMT framework written in pure C++\"\n",
    "bleu_metric.compute(predictions=[s], references=[[s]])"
   ]
  },
  {
   "cell_type": "code",
   "execution_count": 40,
   "id": "3668e9de-2163-47a3-a97d-6858640f8e56",
   "metadata": {},
   "outputs": [
    {
     "name": "stderr",
     "output_type": "stream",
     "text": [
      "Downloading (…)lve/main/config.json: 100%|██████████| 482/482 [00:00<00:00, 241kB/s]\n",
      "Downloading (…)olve/main/vocab.json: 100%|██████████| 899k/899k [00:00<00:00, 1.54MB/s]\n",
      "Downloading (…)olve/main/merges.txt: 100%|██████████| 456k/456k [00:00<00:00, 2.25MB/s]\n",
      "Downloading pytorch_model.bin: 100%|██████████| 1.43G/1.43G [04:05<00:00, 5.82MB/s]\n"
     ]
    },
    {
     "data": {
      "text/plain": [
       "{'precision': [0.9803367853164673],\n",
       " 'recall': [0.9803367853164673],\n",
       " 'f1': [0.9803367853164673],\n",
       " 'hashcode': 'roberta-large_L17_no-idf_version=0.3.12(hug_trans=4.27.3)'}"
      ]
     },
     "execution_count": 40,
     "metadata": {},
     "output_type": "execute_result"
    }
   ],
   "source": [
    "bert_metric.compute(\n",
    "    predictions=[\"I love cats\"], references=[[\"I like cats\"]], lang='en')"
   ]
  },
  {
   "cell_type": "code",
   "execution_count": 41,
   "id": "74d04440-1770-4966-a19c-3558f715ebfd",
   "metadata": {},
   "outputs": [],
   "source": [
    "import numpy as np\n",
    "\n",
    "def compute_metrics(preds_and_labels):\n",
    "  # preds are not logits, but token ids\n",
    "  preds, labels = preds_and_labels\n",
    "\n",
    "  # convert predictions into words\n",
    "  decoded_preds = tokenizer.batch_decode(preds, skip_special_tokens=True)\n",
    "\n",
    "  # for any -100 label, replace with pad token id\n",
    "  labels = np.where(labels != -100, labels, tokenizer.pad_token_id)\n",
    "\n",
    "  # convert labels into words\n",
    "  decoded_labels = tokenizer.batch_decode(labels, skip_special_tokens=True)\n",
    "\n",
    "  # get rid of extraneous whitespace\n",
    "  # and also, put targets into lists\n",
    "  decoded_preds = [pred.strip() for pred in decoded_preds]\n",
    "  decoded_labels = [[label.strip()] for label in decoded_labels]\n",
    "\n",
    "  bleu = bleu_metric.compute(\n",
    "      predictions=decoded_preds, references=decoded_labels)\n",
    "  bert_score = bert_metric.compute(\n",
    "      predictions=decoded_preds, references=decoded_labels, lang='fr')\n",
    "\n",
    "  return {\"bleu\": bleu[\"score\"], 'bert_score': np.mean(bert_score['f1'])}"
   ]
  },
  {
   "cell_type": "code",
   "execution_count": 42,
   "id": "2627c883-8983-4e9d-8137-2eb32b6f2cf9",
   "metadata": {},
   "outputs": [],
   "source": [
    "from transformers import Seq2SeqTrainingArguments\n",
    "\n",
    "training_args = Seq2SeqTrainingArguments(\n",
    "  \"finetuned-model\",\n",
    "  evaluation_strategy=\"no\",\n",
    "  save_strategy=\"epoch\",\n",
    "  learning_rate=2e-5,\n",
    "  per_device_train_batch_size=32,\n",
    "  per_device_eval_batch_size=64,\n",
    "  weight_decay=0.01,\n",
    "  save_total_limit=3,\n",
    "  num_train_epochs=3,\n",
    "  predict_with_generate=True,\n",
    "  fp16=True,\n",
    ")"
   ]
  },
  {
   "cell_type": "code",
   "execution_count": 43,
   "id": "3348eb13-ad75-461c-9d39-352a21aaeb6f",
   "metadata": {},
   "outputs": [],
   "source": [
    "from transformers import Seq2SeqTrainer\n",
    "\n",
    "trainer = Seq2SeqTrainer(\n",
    "    model,\n",
    "    training_args,\n",
    "    train_dataset=tokenized_datasets[\"train\"],\n",
    "    eval_dataset=tokenized_datasets[\"test\"],\n",
    "    data_collator=data_collator,\n",
    "    tokenizer=tokenizer,\n",
    "    compute_metrics=compute_metrics,\n",
    ")"
   ]
  },
  {
   "cell_type": "code",
   "execution_count": 44,
   "id": "eb14c0e5-fdcf-4643-927e-84696890abd9",
   "metadata": {},
   "outputs": [
    {
     "data": {
      "text/html": [
       "\n",
       "    <div>\n",
       "      \n",
       "      <progress value='8' max='4' style='width:300px; height:20px; vertical-align: middle;'></progress>\n",
       "      [4/4 06:50]\n",
       "    </div>\n",
       "    "
      ],
      "text/plain": [
       "<IPython.core.display.HTML object>"
      ]
     },
     "metadata": {},
     "output_type": "display_data"
    },
    {
     "name": "stderr",
     "output_type": "stream",
     "text": [
      "Downloading (…)okenizer_config.json: 100%|██████████| 29.0/29.0 [00:00<00:00, 7.26kB/s]\n",
      "Downloading (…)lve/main/config.json: 100%|██████████| 625/625 [00:00<00:00, 319kB/s]\n",
      "Downloading (…)solve/main/vocab.txt: 100%|██████████| 996k/996k [00:00<00:00, 1.05MB/s]\n",
      "Downloading pytorch_model.bin: 100%|██████████| 714M/714M [02:01<00:00, 5.89MB/s] \n"
     ]
    },
    {
     "data": {
      "text/plain": [
       "{'eval_loss': 1.6042920351028442,\n",
       " 'eval_bleu': 24.569873882648327,\n",
       " 'eval_bert_score': 0.846451632976532,\n",
       " 'eval_runtime': 145.0878,\n",
       " 'eval_samples_per_second': 1.723,\n",
       " 'eval_steps_per_second': 0.028}"
      ]
     },
     "execution_count": 44,
     "metadata": {},
     "output_type": "execute_result"
    }
   ],
   "source": [
    "# let's check our metrics before we start!\n",
    "trainer.evaluate(max_length=max_target_len)"
   ]
  },
  {
   "cell_type": "code",
   "execution_count": 45,
   "id": "edc2308d-fb39-4d00-95fc-19e032e16763",
   "metadata": {},
   "outputs": [
    {
     "name": "stderr",
     "output_type": "stream",
     "text": [
      "C:\\Users\\sthor\\anaconda3\\envs\\NLP\\lib\\site-packages\\transformers\\optimization.py:391: FutureWarning: This implementation of AdamW is deprecated and will be removed in a future version. Use the PyTorch implementation torch.optim.AdamW instead, or set `no_deprecation_warning=True` to disable this warning\n",
      "  warnings.warn(\n"
     ]
    },
    {
     "data": {
      "text/html": [
       "\n",
       "    <div>\n",
       "      \n",
       "      <progress value='72' max='72' style='width:300px; height:20px; vertical-align: middle;'></progress>\n",
       "      [72/72 00:19, Epoch 3/3]\n",
       "    </div>\n",
       "    <table border=\"1\" class=\"dataframe\">\n",
       "  <thead>\n",
       " <tr style=\"text-align: left;\">\n",
       "      <th>Step</th>\n",
       "      <th>Training Loss</th>\n",
       "    </tr>\n",
       "  </thead>\n",
       "  <tbody>\n",
       "  </tbody>\n",
       "</table><p>"
      ],
      "text/plain": [
       "<IPython.core.display.HTML object>"
      ]
     },
     "metadata": {},
     "output_type": "display_data"
    },
    {
     "data": {
      "text/plain": [
       "TrainOutput(global_step=72, training_loss=1.51281558142768, metrics={'train_runtime': 19.9031, 'train_samples_per_second': 113.048, 'train_steps_per_second': 3.618, 'total_flos': 50952950120448.0, 'train_loss': 1.51281558142768, 'epoch': 3.0})"
      ]
     },
     "execution_count": 45,
     "metadata": {},
     "output_type": "execute_result"
    }
   ],
   "source": [
    "# may run out of gpu memory - try to restart runtime\n",
    "# or get a more powerful gpu!\n",
    "trainer.train()"
   ]
  },
  {
   "cell_type": "code",
   "execution_count": 46,
   "id": "8fc639c2-65be-4df6-b47b-e666a8ce9571",
   "metadata": {},
   "outputs": [
    {
     "data": {
      "text/plain": [
       "{'eval_loss': 1.3954944610595703,\n",
       " 'eval_bleu': 35.89748588114586,\n",
       " 'eval_bert_score': 0.8702929373979569,\n",
       " 'eval_runtime': 17.2026,\n",
       " 'eval_samples_per_second': 14.533,\n",
       " 'eval_steps_per_second': 0.233,\n",
       " 'epoch': 3.0}"
      ]
     },
     "execution_count": 46,
     "metadata": {},
     "output_type": "execute_result"
    }
   ],
   "source": [
    "# let's check our metrics again\n",
    "trainer.evaluate(max_length=max_target_len)"
   ]
  },
  {
   "cell_type": "code",
   "execution_count": 47,
   "id": "24d4855f-2072-4378-8079-b692d306aed6",
   "metadata": {},
   "outputs": [],
   "source": [
    "trainer.save_model(\"my_saved_model\")"
   ]
  },
  {
   "cell_type": "code",
   "execution_count": 48,
   "id": "dadddacb-d8c2-4922-8423-0c2424075dd2",
   "metadata": {},
   "outputs": [
    {
     "name": "stderr",
     "output_type": "stream",
     "text": [
      "C:\\Users\\sthor\\anaconda3\\envs\\NLP\\lib\\site-packages\\transformers\\models\\marian\\tokenization_marian.py:194: UserWarning: Recommended: pip install sacremoses.\n",
      "  warnings.warn(\"Recommended: pip install sacremoses.\")\n"
     ]
    }
   ],
   "source": [
    "from transformers import pipeline\n",
    "translator = pipeline(\"translation\", model='my_saved_model', device=0)"
   ]
  },
  {
   "cell_type": "code",
   "execution_count": 49,
   "id": "51c8650f-714c-40e0-8e83-10c50b2c6e1e",
   "metadata": {},
   "outputs": [
    {
     "data": {
      "text/plain": [
       "[{'translation_text': \"J'espère que ce cours vous a aidé dans votre parcours data science!\"}]"
      ]
     },
     "execution_count": 49,
     "metadata": {},
     "output_type": "execute_result"
    }
   ],
   "source": [
    "translator(\"I hope this course has helped you on your data science journey!\")"
   ]
  },
  {
   "cell_type": "code",
   "execution_count": null,
   "id": "880114fd-31a2-469a-be1a-d895e7f14877",
   "metadata": {},
   "outputs": [],
   "source": []
  }
 ],
 "metadata": {
  "kernelspec": {
   "display_name": "Python 3 (ipykernel)",
   "language": "python",
   "name": "python3"
  },
  "language_info": {
   "codemirror_mode": {
    "name": "ipython",
    "version": 3
   },
   "file_extension": ".py",
   "mimetype": "text/x-python",
   "name": "python",
   "nbconvert_exporter": "python",
   "pygments_lexer": "ipython3",
   "version": "3.9.16"
  }
 },
 "nbformat": 4,
 "nbformat_minor": 5
}
