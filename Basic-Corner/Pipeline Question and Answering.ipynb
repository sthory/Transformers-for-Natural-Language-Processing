{
 "cells": [
  {
   "cell_type": "code",
   "execution_count": 1,
   "id": "f6f79bd3-50fe-4d04-8b0b-83c27170811b",
   "metadata": {},
   "outputs": [
    {
     "name": "stderr",
     "output_type": "stream",
     "text": [
      "C:\\Users\\sthor\\anaconda3\\envs\\NLP\\lib\\site-packages\\tqdm\\auto.py:21: TqdmWarning: IProgress not found. Please update jupyter and ipywidgets. See https://ipywidgets.readthedocs.io/en/stable/user_install.html\n",
      "  from .autonotebook import tqdm as notebook_tqdm\n"
     ]
    }
   ],
   "source": [
    "from transformers import pipeline"
   ]
  },
  {
   "cell_type": "code",
   "execution_count": 2,
   "id": "b0dcbb1a-1fa1-4c41-a094-d7c2a60f8341",
   "metadata": {},
   "outputs": [
    {
     "name": "stderr",
     "output_type": "stream",
     "text": [
      "No model was supplied, defaulted to distilbert-base-cased-distilled-squad and revision 626af31 (https://huggingface.co/distilbert-base-cased-distilled-squad).\n",
      "Using a pipeline without specifying a model name and revision in production is not recommended.\n",
      "Downloading (…)lve/main/config.json: 100%|██████████| 473/473 [00:00<00:00, 158kB/s]\n",
      "C:\\Users\\sthor\\anaconda3\\envs\\NLP\\lib\\site-packages\\huggingface_hub\\file_download.py:133: UserWarning: `huggingface_hub` cache-system uses symlinks by default to efficiently store duplicated files but your machine does not support them in C:\\Users\\sthor\\.cache\\huggingface\\hub. Caching files will still work but in a degraded version that might require more space on your disk. This warning can be disabled by setting the `HF_HUB_DISABLE_SYMLINKS_WARNING` environment variable. For more details, see https://huggingface.co/docs/huggingface_hub/how-to-cache#limitations.\n",
      "To support symlinks on Windows, you either need to activate Developer Mode or to run Python as an administrator. In order to see activate developer mode, see this article: https://docs.microsoft.com/en-us/windows/apps/get-started/enable-your-device-for-development\n",
      "  warnings.warn(message)\n",
      "Downloading pytorch_model.bin: 100%|██████████| 261M/261M [03:22<00:00, 1.29MB/s] \n",
      "Downloading (…)okenizer_config.json: 100%|██████████| 29.0/29.0 [00:00<00:00, 5.72kB/s]\n",
      "Downloading (…)solve/main/vocab.txt: 100%|██████████| 213k/213k [00:00<00:00, 1.87MB/s]\n",
      "Downloading (…)/main/tokenizer.json: 100%|██████████| 436k/436k [00:00<00:00, 2.58MB/s]\n"
     ]
    }
   ],
   "source": [
    "qa = pipeline(\"question-answering\")"
   ]
  },
  {
   "cell_type": "code",
   "execution_count": 3,
   "id": "c4b83969-ff89-441f-8949-9f340eb9be19",
   "metadata": {},
   "outputs": [],
   "source": [
    "context = \"Today I went to the store to purchase a carton of milk.\"\n",
    "question = \"What did I buy?\""
   ]
  },
  {
   "cell_type": "code",
   "execution_count": 4,
   "id": "e77d69e5-8903-407f-aa6e-0488e0089b9e",
   "metadata": {},
   "outputs": [
    {
     "data": {
      "text/plain": [
       "{'score': 0.5626221299171448,\n",
       " 'start': 38,\n",
       " 'end': 54,\n",
       " 'answer': 'a carton of milk'}"
      ]
     },
     "execution_count": 4,
     "metadata": {},
     "output_type": "execute_result"
    }
   ],
   "source": [
    "qa(context=context, question=question)"
   ]
  },
  {
   "cell_type": "code",
   "execution_count": 5,
   "id": "f553c41a-8fb4-46ff-9c05-be0c4c3feb10",
   "metadata": {},
   "outputs": [
    {
     "data": {
      "text/plain": [
       "'a carton of milk'"
      ]
     },
     "execution_count": 5,
     "metadata": {},
     "output_type": "execute_result"
    }
   ],
   "source": [
    "context[38:54]"
   ]
  },
  {
   "cell_type": "code",
   "execution_count": 6,
   "id": "786cf5f9-7433-4f87-b513-88746441aff2",
   "metadata": {},
   "outputs": [
    {
     "data": {
      "text/plain": [
       "{'score': 0.9958471059799194, 'start': 30, 'end': 34, 'answer': 'blue'}"
      ]
     },
     "execution_count": 6,
     "metadata": {},
     "output_type": "execute_result"
    }
   ],
   "source": [
    "context = \"Out of all the colors, I like blue the best.\"\n",
    "question = \"What is my favorite color?\"\n",
    "qa(context=context, question=question)"
   ]
  },
  {
   "cell_type": "code",
   "execution_count": 7,
   "id": "6842c3c5-be53-408e-8786-1b3f8b16356b",
   "metadata": {},
   "outputs": [],
   "source": [
    "context = \"Albert Einstein (14 March 1879 – 18 April 1955) was a \" + \\\n",
    "  \"German-born theoretical physicist, widely acknowledged to be one of the \" + \\\n",
    "  \"greatest physicists of all time. Einstein is best known for developing \" + \\\n",
    "  \"the theory of relativity, but he also made important contributions to \" + \\\n",
    "  \"the development of the theory of quantum mechanics. Relativity and \" + \\\n",
    "  \"quantum mechanics are together the two pillars of modern physics.\""
   ]
  },
  {
   "cell_type": "code",
   "execution_count": 8,
   "id": "05c23a5d-06e3-4a7d-8e59-50ebfa7b8e05",
   "metadata": {},
   "outputs": [
    {
     "data": {
      "text/plain": [
       "{'score': 0.951105535030365, 'start': 17, 'end': 30, 'answer': '14 March 1879'}"
      ]
     },
     "execution_count": 8,
     "metadata": {},
     "output_type": "execute_result"
    }
   ],
   "source": [
    "question = \"When was Albert Einstein born?\"\n",
    "qa(context=context, question=question)"
   ]
  },
  {
   "cell_type": "code",
   "execution_count": 9,
   "id": "8c23ae97-c596-4814-ad87-921c7ccddee2",
   "metadata": {},
   "outputs": [
    {
     "data": {
      "text/plain": [
       "{'score': 0.9473748803138733,\n",
       " 'start': 66,\n",
       " 'end': 87,\n",
       " 'answer': 'theoretical physicist'}"
      ]
     },
     "execution_count": 9,
     "metadata": {},
     "output_type": "execute_result"
    }
   ],
   "source": [
    "question = \"What was Albert Einstein's occupation?\"\n",
    "qa(context=context, question=question)"
   ]
  },
  {
   "cell_type": "code",
   "execution_count": 10,
   "id": "e064e7b5-c817-4585-b793-4bfbc7ccc785",
   "metadata": {},
   "outputs": [
    {
     "data": {
      "text/plain": [
       "{'score': 0.8471295833587646,\n",
       " 'start': 186,\n",
       " 'end': 221,\n",
       " 'answer': 'developing the theory of relativity'}"
      ]
     },
     "execution_count": 10,
     "metadata": {},
     "output_type": "execute_result"
    }
   ],
   "source": [
    "question = \"What is Albert Einstein best known for?\"\n",
    "qa(context=context, question=question)"
   ]
  },
  {
   "cell_type": "code",
   "execution_count": 11,
   "id": "ecc148d7-ca81-4b2e-8263-a22792ef1a66",
   "metadata": {},
   "outputs": [
    {
     "data": {
      "text/plain": [
       "{'score': 0.28260549902915955,\n",
       " 'start': 290,\n",
       " 'end': 317,\n",
       " 'answer': 'theory of quantum mechanics'}"
      ]
     },
     "execution_count": 11,
     "metadata": {},
     "output_type": "execute_result"
    }
   ],
   "source": [
    "question = \"What else has Albert Einstein contributed to?\"\n",
    "qa(context=context, question=question)"
   ]
  },
  {
   "cell_type": "code",
   "execution_count": 12,
   "id": "3f2c4607-d87d-4e5b-9442-20250582a8b0",
   "metadata": {},
   "outputs": [
    {
     "data": {
      "text/plain": [
       "{'score': 0.9952630400657654,\n",
       " 'start': 319,\n",
       " 'end': 351,\n",
       " 'answer': 'Relativity and quantum mechanics'}"
      ]
     },
     "execution_count": 12,
     "metadata": {},
     "output_type": "execute_result"
    }
   ],
   "source": [
    "question = \"What are the two pillars of modern physics?\"\n",
    "qa(context=context, question=question)"
   ]
  },
  {
   "cell_type": "code",
   "execution_count": 13,
   "id": "74029d02-b717-483e-b4be-d91ac8ad315d",
   "metadata": {},
   "outputs": [
    {
     "data": {
      "text/plain": [
       "{'score': 0.994666337966919, 'start': 54, 'end': 60, 'answer': 'German'}"
      ]
     },
     "execution_count": 13,
     "metadata": {},
     "output_type": "execute_result"
    }
   ],
   "source": [
    "question = \"Where was Albert Einstein born?\"\n",
    "qa(context=context, question=question)"
   ]
  },
  {
   "cell_type": "code",
   "execution_count": 14,
   "id": "328cfb15-76cf-4ec7-86dd-184d4b4bafa2",
   "metadata": {},
   "outputs": [
    {
     "data": {
      "text/plain": [
       "{'score': 0.002485558157786727,\n",
       " 'start': 0,\n",
       " 'end': 15,\n",
       " 'answer': 'Albert Einstein'}"
      ]
     },
     "execution_count": 14,
     "metadata": {},
     "output_type": "execute_result"
    }
   ],
   "source": [
    "question = \"What is peanut butter made of?\"\n",
    "qa(context=context, question=question)"
   ]
  },
  {
   "cell_type": "code",
   "execution_count": null,
   "id": "9593b371-6c22-4722-8bce-af7cc3d2aa4b",
   "metadata": {},
   "outputs": [],
   "source": []
  }
 ],
 "metadata": {
  "kernelspec": {
   "display_name": "Python 3 (ipykernel)",
   "language": "python",
   "name": "python3"
  },
  "language_info": {
   "codemirror_mode": {
    "name": "ipython",
    "version": 3
   },
   "file_extension": ".py",
   "mimetype": "text/x-python",
   "name": "python",
   "nbconvert_exporter": "python",
   "pygments_lexer": "ipython3",
   "version": "3.9.16"
  }
 },
 "nbformat": 4,
 "nbformat_minor": 5
}
