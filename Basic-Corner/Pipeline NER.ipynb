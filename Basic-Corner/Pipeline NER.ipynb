{
 "cells": [
  {
   "cell_type": "code",
   "execution_count": 1,
   "id": "1168abcb-2a1d-404e-be04-b6ea705c506a",
   "metadata": {},
   "outputs": [
    {
     "name": "stderr",
     "output_type": "stream",
     "text": [
      "C:\\Users\\sthor\\anaconda3\\envs\\NLP\\lib\\site-packages\\tqdm\\auto.py:21: TqdmWarning: IProgress not found. Please update jupyter and ipywidgets. See https://ipywidgets.readthedocs.io/en/stable/user_install.html\n",
      "  from .autonotebook import tqdm as notebook_tqdm\n"
     ]
    }
   ],
   "source": [
    "from transformers import pipeline"
   ]
  },
  {
   "cell_type": "code",
   "execution_count": 2,
   "id": "6554c430-4517-43f8-a31f-8cdc1f61345e",
   "metadata": {},
   "outputs": [
    {
     "name": "stderr",
     "output_type": "stream",
     "text": [
      "No model was supplied, defaulted to dbmdz/bert-large-cased-finetuned-conll03-english and revision f2482bf (https://huggingface.co/dbmdz/bert-large-cased-finetuned-conll03-english).\n",
      "Using a pipeline without specifying a model name and revision in production is not recommended.\n",
      "Downloading (…)lve/main/config.json: 100%|██████████| 998/998 [00:00<00:00, 249kB/s]\n",
      "C:\\Users\\sthor\\anaconda3\\envs\\NLP\\lib\\site-packages\\huggingface_hub\\file_download.py:133: UserWarning: `huggingface_hub` cache-system uses symlinks by default to efficiently store duplicated files but your machine does not support them in C:\\Users\\sthor\\.cache\\huggingface\\hub. Caching files will still work but in a degraded version that might require more space on your disk. This warning can be disabled by setting the `HF_HUB_DISABLE_SYMLINKS_WARNING` environment variable. For more details, see https://huggingface.co/docs/huggingface_hub/how-to-cache#limitations.\n",
      "To support symlinks on Windows, you either need to activate Developer Mode or to run Python as an administrator. In order to see activate developer mode, see this article: https://docs.microsoft.com/en-us/windows/apps/get-started/enable-your-device-for-development\n",
      "  warnings.warn(message)\n",
      "Downloading pytorch_model.bin: 100%|██████████| 1.33G/1.33G [02:50<00:00, 7.82MB/s]\n",
      "Downloading (…)okenizer_config.json: 100%|██████████| 60.0/60.0 [00:00<00:00, 20.0kB/s]\n",
      "Downloading (…)solve/main/vocab.txt: 100%|██████████| 213k/213k [00:00<00:00, 1.56MB/s]\n"
     ]
    }
   ],
   "source": [
    "ner = pipeline(\"ner\", aggregation_strategy='simple', device=0)"
   ]
  },
  {
   "cell_type": "code",
   "execution_count": 3,
   "id": "5c8c0d70-945f-4db9-8470-46e69890bc44",
   "metadata": {},
   "outputs": [],
   "source": [
    "import pickle"
   ]
  },
  {
   "cell_type": "code",
   "execution_count": 4,
   "id": "0bc025f2-209c-4df7-b4cd-2ea7b85a05f0",
   "metadata": {},
   "outputs": [],
   "source": [
    "with open('ner_train.pkl', 'rb') as f:\n",
    "  corpus_train = pickle.load(f)\n",
    "\n",
    "with open('ner_test.pkl', 'rb') as f:\n",
    "  corpus_test = pickle.load(f)"
   ]
  },
  {
   "cell_type": "code",
   "execution_count": 10,
   "id": "294d4d8f-051b-4194-89c8-5abcbe8a1578",
   "metadata": {},
   "outputs": [
    {
     "data": {
      "text/plain": [
       "[[('CRICKET', 'O'),\n",
       "  ('-', 'O'),\n",
       "  ('LEICESTERSHIRE', 'B-ORG'),\n",
       "  ('TAKE', 'O'),\n",
       "  ('OVER', 'O'),\n",
       "  ('AT', 'O'),\n",
       "  ('TOP', 'O'),\n",
       "  ('AFTER', 'O'),\n",
       "  ('INNINGS', 'O'),\n",
       "  ('VICTORY', 'O'),\n",
       "  ('.', 'O')],\n",
       " [('West', 'B-MISC'),\n",
       "  ('Indian', 'I-MISC'),\n",
       "  ('all-rounder', 'O'),\n",
       "  ('Phil', 'B-PER'),\n",
       "  ('Simmons', 'I-PER'),\n",
       "  ('took', 'O'),\n",
       "  ('four', 'O'),\n",
       "  ('for', 'O'),\n",
       "  ('38', 'O'),\n",
       "  ('on', 'O'),\n",
       "  ('Friday', 'O'),\n",
       "  ('as', 'O'),\n",
       "  ('Leicestershire', 'B-ORG'),\n",
       "  ('beat', 'O'),\n",
       "  ('Somerset', 'B-ORG'),\n",
       "  ('by', 'O'),\n",
       "  ('an', 'O'),\n",
       "  ('innings', 'O'),\n",
       "  ('and', 'O'),\n",
       "  ('39', 'O'),\n",
       "  ('runs', 'O'),\n",
       "  ('in', 'O'),\n",
       "  ('two', 'O'),\n",
       "  ('days', 'O'),\n",
       "  ('to', 'O'),\n",
       "  ('take', 'O'),\n",
       "  ('over', 'O'),\n",
       "  ('at', 'O'),\n",
       "  ('the', 'O'),\n",
       "  ('head', 'O'),\n",
       "  ('of', 'O'),\n",
       "  ('the', 'O'),\n",
       "  ('county', 'O'),\n",
       "  ('championship', 'O'),\n",
       "  ('.', 'O')]]"
      ]
     },
     "execution_count": 10,
     "metadata": {},
     "output_type": "execute_result"
    }
   ],
   "source": [
    "corpus_test[0:2]"
   ]
  },
  {
   "cell_type": "code",
   "execution_count": 11,
   "id": "6a5f8672-b2b0-44d9-bafb-62ad790ed93c",
   "metadata": {},
   "outputs": [],
   "source": [
    "inputs = []\n",
    "targets = []\n",
    "\n",
    "for sentence_tag_pairs in corpus_test:\n",
    "  tokens = []\n",
    "  target = []\n",
    "  for token, tag in sentence_tag_pairs:\n",
    "    tokens.append(token)\n",
    "    target.append(tag)\n",
    "  inputs.append(tokens)\n",
    "  targets.append(target)"
   ]
  },
  {
   "cell_type": "code",
   "execution_count": 15,
   "id": "171b9a51-e796-4e05-a517-7e6f475fdffd",
   "metadata": {},
   "outputs": [
    {
     "name": "stdout",
     "output_type": "stream",
     "text": [
      "['He', 'was', 'well', 'backed', 'by', 'England', 'hopeful', 'Mark', 'Butcher', 'who', 'made', '70', 'as', 'Surrey', 'closed', 'on', '429', 'for', 'seven', ',', 'a', 'lead', 'of', '234', '.']\n"
     ]
    }
   ],
   "source": [
    "print(inputs[9])"
   ]
  },
  {
   "cell_type": "code",
   "execution_count": 16,
   "id": "6c6999d2-f63d-46e7-b157-c806b2b280b6",
   "metadata": {},
   "outputs": [],
   "source": [
    "from nltk.tokenize.treebank import TreebankWordDetokenizer\n",
    "detokenizer = TreebankWordDetokenizer()"
   ]
  },
  {
   "cell_type": "code",
   "execution_count": 17,
   "id": "3ed33ae8-fe90-4f6d-a8dd-e1cf828947f4",
   "metadata": {},
   "outputs": [
    {
     "data": {
      "text/plain": [
       "'He was well backed by England hopeful Mark Butcher who made 70 as Surrey closed on 429 for seven, a lead of 234.'"
      ]
     },
     "execution_count": 17,
     "metadata": {},
     "output_type": "execute_result"
    }
   ],
   "source": [
    "detokenizer.detokenize(inputs[9])"
   ]
  },
  {
   "cell_type": "code",
   "execution_count": 19,
   "id": "52953f27-7a82-4bcc-a22e-619c88c155d9",
   "metadata": {},
   "outputs": [
    {
     "name": "stdout",
     "output_type": "stream",
     "text": [
      "['O', 'O', 'O', 'O', 'O', 'B-LOC', 'O', 'B-PER', 'I-PER', 'O', 'O', 'O', 'O', 'B-ORG', 'O', 'O', 'O', 'O', 'O', 'O', 'O', 'O', 'O', 'O', 'O']\n"
     ]
    }
   ],
   "source": [
    "print(targets[9])"
   ]
  },
  {
   "cell_type": "code",
   "execution_count": 20,
   "id": "3d367a5a-516d-411f-8851-8988cfbed21c",
   "metadata": {},
   "outputs": [
    {
     "data": {
      "text/plain": [
       "[{'entity_group': 'LOC',\n",
       "  'score': 0.99967515,\n",
       "  'word': 'England',\n",
       "  'start': 22,\n",
       "  'end': 29},\n",
       " {'entity_group': 'PER',\n",
       "  'score': 0.99974275,\n",
       "  'word': 'Mark Butcher',\n",
       "  'start': 38,\n",
       "  'end': 50},\n",
       " {'entity_group': 'ORG',\n",
       "  'score': 0.9996264,\n",
       "  'word': 'Surrey',\n",
       "  'start': 66,\n",
       "  'end': 72}]"
      ]
     },
     "execution_count": 20,
     "metadata": {},
     "output_type": "execute_result"
    }
   ],
   "source": [
    "ner(detokenizer.detokenize(inputs[9]))"
   ]
  },
  {
   "cell_type": "code",
   "execution_count": 21,
   "id": "d975a76c-486d-4ee4-a23a-43836856edbe",
   "metadata": {},
   "outputs": [],
   "source": [
    "def compute_prediction(tokens, input_, ner_result):\n",
    "  # map hugging face ner result to list of tags for later performance assessment\n",
    "  # tokens is the original tokenized sentence\n",
    "  # input_ is the detokenized string\n",
    "\n",
    "  predicted_tags = []\n",
    "  state = 'O' # keep track of state, so if O --> B, if B --> I, if I --> I\n",
    "  current_index = 0\n",
    "  for token in tokens:\n",
    "    # find the token in the input_ (should be at or near the start)\n",
    "    index = input_.find(token)\n",
    "    assert(index >= 0)\n",
    "    current_index += index # where we are currently pointing to\n",
    "\n",
    "    # print(token, current_index) # debug\n",
    "\n",
    "    # check if this index belongs to an entity and assign label\n",
    "    tag = 'O'\n",
    "    for entity in ner_result:\n",
    "      if current_index >= entity['start'] and current_index < entity['end']:\n",
    "        # then this token belongs to an entity\n",
    "        if state == 'O':\n",
    "          state = 'B'\n",
    "        else:\n",
    "          state = 'I'\n",
    "        tag = f\"{state}-{entity['entity_group']}\"\n",
    "        break\n",
    "    if tag == 'O':\n",
    "      # reset the state\n",
    "      state = 'O'\n",
    "    predicted_tags.append(tag)\n",
    "\n",
    "    # remove the token from input_\n",
    "    input_ = input_[index + len(token):]\n",
    "\n",
    "    # update current_index\n",
    "    current_index += len(token)\n",
    "\n",
    "  # sanity check\n",
    "  # print(\"len(predicted_tags)\", len(predicted_tags))\n",
    "  # print(\"len(tokens)\", len(tokens))\n",
    "  assert(len(predicted_tags) == len(tokens))\n",
    "  return predicted_tags"
   ]
  },
  {
   "cell_type": "code",
   "execution_count": 22,
   "id": "7c0f64b3-c24f-47b3-b8e6-a66f5e97dd82",
   "metadata": {},
   "outputs": [],
   "source": [
    "input_ = detokenizer.detokenize(inputs[9])\n",
    "ner_result = ner(input_)\n",
    "ptags = compute_prediction(inputs[9], input_, ner_result)"
   ]
  },
  {
   "cell_type": "code",
   "execution_count": 24,
   "id": "f8d2fb38-46b3-4591-9fb4-ff7baf22543b",
   "metadata": {},
   "outputs": [
    {
     "data": {
      "text/plain": [
       "'He was well backed by England hopeful Mark Butcher who made 70 as Surrey closed on 429 for seven, a lead of 234.'"
      ]
     },
     "execution_count": 24,
     "metadata": {},
     "output_type": "execute_result"
    }
   ],
   "source": [
    "input_"
   ]
  },
  {
   "cell_type": "code",
   "execution_count": 23,
   "id": "67170aa8-8a2a-4363-845c-d56b3434b82a",
   "metadata": {},
   "outputs": [
    {
     "data": {
      "text/plain": [
       "[{'entity_group': 'LOC',\n",
       "  'score': 0.99967515,\n",
       "  'word': 'England',\n",
       "  'start': 22,\n",
       "  'end': 29},\n",
       " {'entity_group': 'PER',\n",
       "  'score': 0.99974275,\n",
       "  'word': 'Mark Butcher',\n",
       "  'start': 38,\n",
       "  'end': 50},\n",
       " {'entity_group': 'ORG',\n",
       "  'score': 0.9996264,\n",
       "  'word': 'Surrey',\n",
       "  'start': 66,\n",
       "  'end': 72}]"
      ]
     },
     "execution_count": 23,
     "metadata": {},
     "output_type": "execute_result"
    }
   ],
   "source": [
    "ner_result"
   ]
  },
  {
   "cell_type": "code",
   "execution_count": 26,
   "id": "5d10ef0b-c1ad-4c94-8a35-b16dbe197481",
   "metadata": {},
   "outputs": [
    {
     "name": "stdout",
     "output_type": "stream",
     "text": [
      "['O', 'O', 'O', 'O', 'O', 'B-LOC', 'O', 'B-PER', 'I-PER', 'O', 'O', 'O', 'O', 'B-ORG', 'O', 'O', 'O', 'O', 'O', 'O', 'O', 'O', 'O', 'O', 'O']\n"
     ]
    }
   ],
   "source": [
    "print(ptags)"
   ]
  },
  {
   "cell_type": "code",
   "execution_count": 27,
   "id": "9629a85c-3c8e-4292-887d-9b1990a94bc4",
   "metadata": {},
   "outputs": [],
   "source": [
    "from sklearn.metrics import accuracy_score, f1_score"
   ]
  },
  {
   "cell_type": "code",
   "execution_count": 28,
   "id": "6c103742-c234-4406-bcbc-f549cf366723",
   "metadata": {},
   "outputs": [
    {
     "data": {
      "text/plain": [
       "1.0"
      ]
     },
     "execution_count": 28,
     "metadata": {},
     "output_type": "execute_result"
    }
   ],
   "source": [
    "accuracy_score(targets[9], ptags)"
   ]
  },
  {
   "cell_type": "code",
   "execution_count": 29,
   "id": "58670ef6-06d0-4efe-80a5-0a0fda877f6f",
   "metadata": {},
   "outputs": [
    {
     "name": "stdout",
     "output_type": "stream",
     "text": [
      "O O\n",
      "O O\n",
      "O O\n",
      "O O\n",
      "O O\n",
      "B-LOC B-LOC\n",
      "O O\n",
      "B-PER B-PER\n",
      "I-PER I-PER\n",
      "O O\n",
      "O O\n",
      "O O\n",
      "O O\n",
      "B-ORG B-ORG\n",
      "O O\n",
      "O O\n",
      "O O\n",
      "O O\n",
      "O O\n",
      "O O\n",
      "O O\n",
      "O O\n",
      "O O\n",
      "O O\n",
      "O O\n"
     ]
    }
   ],
   "source": [
    "for targ, pred in zip(targets[9], ptags):\n",
    "  print(targ, pred)"
   ]
  },
  {
   "cell_type": "code",
   "execution_count": 30,
   "id": "a204fe60-6aed-44bf-aceb-e4f69f871846",
   "metadata": {},
   "outputs": [],
   "source": [
    "# get detokenized inputs to pass into ner model\n",
    "detok_inputs = []\n",
    "for tokens in inputs:\n",
    "  text = detokenizer.detokenize(tokens)\n",
    "  detok_inputs.append(text)"
   ]
  },
  {
   "cell_type": "code",
   "execution_count": 31,
   "id": "39670a85-8303-4582-9f48-bcea6dcdb28a",
   "metadata": {},
   "outputs": [],
   "source": [
    "# 17 min on CPU, 3 min on GPU\n",
    "ner_results = ner(detok_inputs)"
   ]
  },
  {
   "cell_type": "code",
   "execution_count": 32,
   "id": "bf6a32c6-bb65-4f28-8903-3dd4f79d3972",
   "metadata": {},
   "outputs": [],
   "source": [
    "predictions = []\n",
    "for tokens, text, ner_result in zip(inputs, detok_inputs, ner_results):\n",
    "    pred = compute_prediction(tokens, text, ner_result)\n",
    "    predictions.append(pred)"
   ]
  },
  {
   "cell_type": "code",
   "execution_count": 33,
   "id": "9549f038-820f-456b-8387-c23f23721b30",
   "metadata": {},
   "outputs": [],
   "source": [
    "# https://stackoverflow.com/questions/11264684/flatten-list-of-lists\n",
    "def flatten(list_of_lists):\n",
    "  flattened = [val for sublist in list_of_lists for val in sublist]\n",
    "  return flattened"
   ]
  },
  {
   "cell_type": "code",
   "execution_count": 34,
   "id": "f03c1146-f61f-48db-9c1a-702e3697dde2",
   "metadata": {},
   "outputs": [],
   "source": [
    "# flatten targets and predictions\n",
    "flat_predictions = flatten(predictions)\n",
    "flat_targets = flatten(targets)"
   ]
  },
  {
   "cell_type": "code",
   "execution_count": 39,
   "id": "81167c25-6a0c-4130-b1e8-6af627f90093",
   "metadata": {},
   "outputs": [
    {
     "data": {
      "text/plain": [
       "0.9916563354782848"
      ]
     },
     "execution_count": 39,
     "metadata": {},
     "output_type": "execute_result"
    }
   ],
   "source": [
    "accuracy_score(flat_targets, flat_predictions)"
   ]
  },
  {
   "cell_type": "code",
   "execution_count": 40,
   "id": "ef260334-1fea-4bc7-8e58-5eb9e04e118d",
   "metadata": {},
   "outputs": [
    {
     "data": {
      "text/plain": [
       "0.95403328229255"
      ]
     },
     "execution_count": 40,
     "metadata": {},
     "output_type": "execute_result"
    }
   ],
   "source": [
    "f1_score(flat_targets, flat_predictions, average='macro')"
   ]
  },
  {
   "cell_type": "code",
   "execution_count": null,
   "id": "ae054c7c-ed84-4ec7-a425-a7d3c85514f3",
   "metadata": {},
   "outputs": [],
   "source": []
  }
 ],
 "metadata": {
  "kernelspec": {
   "display_name": "Python 3 (ipykernel)",
   "language": "python",
   "name": "python3"
  },
  "language_info": {
   "codemirror_mode": {
    "name": "ipython",
    "version": 3
   },
   "file_extension": ".py",
   "mimetype": "text/x-python",
   "name": "python",
   "nbconvert_exporter": "python",
   "pygments_lexer": "ipython3",
   "version": "3.9.16"
  }
 },
 "nbformat": 4,
 "nbformat_minor": 5
}
