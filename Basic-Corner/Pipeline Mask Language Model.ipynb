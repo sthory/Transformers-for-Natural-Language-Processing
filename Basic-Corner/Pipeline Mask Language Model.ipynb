{
 "cells": [
  {
   "cell_type": "code",
   "execution_count": 1,
   "id": "0a346c5d-cd34-4f20-86d5-b3f18b838e7c",
   "metadata": {},
   "outputs": [
    {
     "name": "stderr",
     "output_type": "stream",
     "text": [
      "C:\\Users\\sthor\\anaconda3\\envs\\NLP\\lib\\site-packages\\tqdm\\auto.py:21: TqdmWarning: IProgress not found. Please update jupyter and ipywidgets. See https://ipywidgets.readthedocs.io/en/stable/user_install.html\n",
      "  from .autonotebook import tqdm as notebook_tqdm\n"
     ]
    }
   ],
   "source": [
    "from transformers import pipeline\n",
    "\n",
    "import textwrap\n",
    "import numpy as np\n",
    "import pandas as pd\n",
    "\n",
    "from pprint import pprint"
   ]
  },
  {
   "cell_type": "code",
   "execution_count": 2,
   "id": "c1a88164-478d-450b-b220-58de23840c17",
   "metadata": {},
   "outputs": [],
   "source": [
    "df = pd.read_csv(\"../bbc_text_cls.csv\")"
   ]
  },
  {
   "cell_type": "code",
   "execution_count": 3,
   "id": "29622dcc-8d06-4050-b306-b21b755fa8e3",
   "metadata": {},
   "outputs": [
    {
     "data": {
      "text/html": [
       "<div>\n",
       "<style scoped>\n",
       "    .dataframe tbody tr th:only-of-type {\n",
       "        vertical-align: middle;\n",
       "    }\n",
       "\n",
       "    .dataframe tbody tr th {\n",
       "        vertical-align: top;\n",
       "    }\n",
       "\n",
       "    .dataframe thead th {\n",
       "        text-align: right;\n",
       "    }\n",
       "</style>\n",
       "<table border=\"1\" class=\"dataframe\">\n",
       "  <thead>\n",
       "    <tr style=\"text-align: right;\">\n",
       "      <th></th>\n",
       "      <th>text</th>\n",
       "      <th>labels</th>\n",
       "    </tr>\n",
       "  </thead>\n",
       "  <tbody>\n",
       "    <tr>\n",
       "      <th>0</th>\n",
       "      <td>Ad sales boost Time Warner profit\\n\\nQuarterly...</td>\n",
       "      <td>business</td>\n",
       "    </tr>\n",
       "    <tr>\n",
       "      <th>1</th>\n",
       "      <td>Dollar gains on Greenspan speech\\n\\nThe dollar...</td>\n",
       "      <td>business</td>\n",
       "    </tr>\n",
       "    <tr>\n",
       "      <th>2</th>\n",
       "      <td>Yukos unit buyer faces loan claim\\n\\nThe owner...</td>\n",
       "      <td>business</td>\n",
       "    </tr>\n",
       "    <tr>\n",
       "      <th>3</th>\n",
       "      <td>High fuel prices hit BA's profits\\n\\nBritish A...</td>\n",
       "      <td>business</td>\n",
       "    </tr>\n",
       "    <tr>\n",
       "      <th>4</th>\n",
       "      <td>Pernod takeover talk lifts Domecq\\n\\nShares in...</td>\n",
       "      <td>business</td>\n",
       "    </tr>\n",
       "  </tbody>\n",
       "</table>\n",
       "</div>"
      ],
      "text/plain": [
       "                                                text    labels\n",
       "0  Ad sales boost Time Warner profit\\n\\nQuarterly...  business\n",
       "1  Dollar gains on Greenspan speech\\n\\nThe dollar...  business\n",
       "2  Yukos unit buyer faces loan claim\\n\\nThe owner...  business\n",
       "3  High fuel prices hit BA's profits\\n\\nBritish A...  business\n",
       "4  Pernod takeover talk lifts Domecq\\n\\nShares in...  business"
      ]
     },
     "execution_count": 3,
     "metadata": {},
     "output_type": "execute_result"
    }
   ],
   "source": [
    "df.head()"
   ]
  },
  {
   "cell_type": "code",
   "execution_count": 4,
   "id": "cfe44ee9-6c32-4f67-844c-fdda53c2db0e",
   "metadata": {},
   "outputs": [
    {
     "data": {
      "text/plain": [
       "{'business', 'entertainment', 'politics', 'sport', 'tech'}"
      ]
     },
     "execution_count": 4,
     "metadata": {},
     "output_type": "execute_result"
    }
   ],
   "source": [
    "labels = set(df['labels'])\n",
    "labels"
   ]
  },
  {
   "cell_type": "code",
   "execution_count": 5,
   "id": "05593595-a0ac-47b3-a38d-a5f5c5c87522",
   "metadata": {},
   "outputs": [],
   "source": [
    "# Pick a label\n",
    "label = 'business'"
   ]
  },
  {
   "cell_type": "code",
   "execution_count": 6,
   "id": "cd11242c-b931-4bb0-bb46-9482f7adf34d",
   "metadata": {},
   "outputs": [
    {
     "data": {
      "text/plain": [
       "0    Ad sales boost Time Warner profit\\n\\nQuarterly...\n",
       "1    Dollar gains on Greenspan speech\\n\\nThe dollar...\n",
       "2    Yukos unit buyer faces loan claim\\n\\nThe owner...\n",
       "3    High fuel prices hit BA's profits\\n\\nBritish A...\n",
       "4    Pernod takeover talk lifts Domecq\\n\\nShares in...\n",
       "Name: text, dtype: object"
      ]
     },
     "execution_count": 6,
     "metadata": {},
     "output_type": "execute_result"
    }
   ],
   "source": [
    "texts = df[df['labels'] == label]['text']\n",
    "texts.head()"
   ]
  },
  {
   "cell_type": "code",
   "execution_count": 11,
   "id": "99b34127-3cc4-4436-80b2-311d9de5ccf0",
   "metadata": {},
   "outputs": [],
   "source": [
    "np.random.seed(1234)"
   ]
  },
  {
   "cell_type": "code",
   "execution_count": 12,
   "id": "2fd81b74-6cac-4ebe-8519-547513de7d40",
   "metadata": {},
   "outputs": [
    {
     "name": "stdout",
     "output_type": "stream",
     "text": [
      "303\n"
     ]
    }
   ],
   "source": [
    "i = np.random.choice(texts.shape[0])\n",
    "print(i)\n",
    "doc = texts.iloc[i]"
   ]
  },
  {
   "cell_type": "code",
   "execution_count": 14,
   "id": "072ef99d-ba81-482b-9783-0ef6b5334178",
   "metadata": {},
   "outputs": [
    {
     "name": "stdout",
     "output_type": "stream",
     "text": [
      "Bombardier chief to leave company\n",
      "\n",
      "Shares in train and plane-making\n",
      "giant Bombardier have fallen to a 10-year low following the departure\n",
      "of its chief executive and two members of the board.\n",
      "\n",
      "Paul Tellier,\n",
      "who was also Bombardier's president, left the company amid an ongoing\n",
      "restructuring.  Laurent Beaudoin, part of the family that controls the\n",
      "Montreal-based firm, will take on the role of CEO under a newly\n",
      "created management structure.  Analysts said the resignations seem to\n",
      "have stemmed from a boardroom dispute.  Under Mr Tellier's tenure at\n",
      "the company, which began in January 2003, plans to cut the worldwide\n",
      "workforce of 75,000 by almost a third by 2006 were announced.  The\n",
      "firm's snowmobile division and defence services unit were also sold\n",
      "and Bombardier started the development of a new aircraft seating 110\n",
      "to 135 passengers.\n",
      "\n",
      "Mr Tellier had indicated he wanted to stay at the\n",
      "world's top train maker and third largest manufacturer of civil\n",
      "aircraft until the restructuring was complete.  But Bombardier has\n",
      "been faced with a declining share price and profits.  Earlier this\n",
      "month the firm said it earned $10m (£19.2m) in the third quarter, down\n",
      "from a profit of $133m a year ago.  \"I understand the board's concern\n",
      "that I would not be there for the long-term and the need to develop\n",
      "and execute strategies, and the need to reshape the management\n",
      "structure at this time,\" Mr Tellier said in a statement on Monday.\n",
      "Bombardier said restructuring plans drawn up by Mr Tellier's would\n",
      "continue to be implemented.  Shares in Bombardier lost 65 Canadian\n",
      "cents or 25% on the news to 1.90 Canadian dollars before rallying to\n",
      "2.20 Canadian dollars.\n"
     ]
    }
   ],
   "source": [
    "print(textwrap.fill(doc, replace_whitespace=False, fix_sentence_endings=True))"
   ]
  },
  {
   "cell_type": "code",
   "execution_count": 15,
   "id": "2ea1d3d0-5584-4814-96e4-21b0b7384784",
   "metadata": {},
   "outputs": [
    {
     "name": "stderr",
     "output_type": "stream",
     "text": [
      "No model was supplied, defaulted to distilroberta-base and revision ec58a5b (https://huggingface.co/distilroberta-base).\n",
      "Using a pipeline without specifying a model name and revision in production is not recommended.\n",
      "Downloading (…)lve/main/config.json: 100%|██████████| 480/480 [00:00<00:00, 240kB/s]\n",
      "C:\\Users\\sthor\\anaconda3\\envs\\NLP\\lib\\site-packages\\huggingface_hub\\file_download.py:133: UserWarning: `huggingface_hub` cache-system uses symlinks by default to efficiently store duplicated files but your machine does not support them in C:\\Users\\sthor\\.cache\\huggingface\\hub. Caching files will still work but in a degraded version that might require more space on your disk. This warning can be disabled by setting the `HF_HUB_DISABLE_SYMLINKS_WARNING` environment variable. For more details, see https://huggingface.co/docs/huggingface_hub/how-to-cache#limitations.\n",
      "To support symlinks on Windows, you either need to activate Developer Mode or to run Python as an administrator. In order to see activate developer mode, see this article: https://docs.microsoft.com/en-us/windows/apps/get-started/enable-your-device-for-development\n",
      "  warnings.warn(message)\n",
      "Downloading pytorch_model.bin: 100%|██████████| 331M/331M [00:38<00:00, 8.55MB/s] \n",
      "Downloading (…)olve/main/vocab.json: 100%|██████████| 899k/899k [00:00<00:00, 3.38MB/s]\n",
      "Downloading (…)olve/main/merges.txt: 100%|██████████| 456k/456k [00:00<00:00, 2.23MB/s]\n",
      "Downloading (…)/main/tokenizer.json: 100%|██████████| 1.36M/1.36M [00:00<00:00, 4.61MB/s]\n"
     ]
    }
   ],
   "source": [
    "mlm = pipeline(\"fill-mask\")"
   ]
  },
  {
   "cell_type": "code",
   "execution_count": 16,
   "id": "4dae787d-befd-461a-9c94-6a7510b24b60",
   "metadata": {},
   "outputs": [
    {
     "data": {
      "text/plain": [
       "[{'score': 0.06950803846120834,\n",
       "  'token': 633,\n",
       "  'token_str': ' job',\n",
       "  'sequence': 'Bombardier chief to leave job'},\n",
       " {'score': 0.06693095713853836,\n",
       "  'token': 1470,\n",
       "  'token_str': ' France',\n",
       "  'sequence': 'Bombardier chief to leave France'},\n",
       " {'score': 0.05273529887199402,\n",
       "  'token': 558,\n",
       "  'token_str': ' office',\n",
       "  'sequence': 'Bombardier chief to leave office'},\n",
       " {'score': 0.025823015719652176,\n",
       "  'token': 2201,\n",
       "  'token_str': ' Paris',\n",
       "  'sequence': 'Bombardier chief to leave Paris'},\n",
       " {'score': 0.0213686041533947,\n",
       "  'token': 896,\n",
       "  'token_str': ' Canada',\n",
       "  'sequence': 'Bombardier chief to leave Canada'}]"
      ]
     },
     "execution_count": 16,
     "metadata": {},
     "output_type": "execute_result"
    }
   ],
   "source": [
    "mlm(\"Bombardier chief to leave <mask>\")"
   ]
  },
  {
   "cell_type": "code",
   "execution_count": 17,
   "id": "32a543e7-faaf-403e-96a3-95491ff7174f",
   "metadata": {},
   "outputs": [
    {
     "data": {
      "text/plain": [
       "[{'score': 0.6640956401824951,\n",
       "  'token': 11016,\n",
       "  'token_str': ' Airbus',\n",
       "  'sequence': 'Shares in Airbus and plane-making giant Bombardier have fallen to a 10-year low following the departure of its chief executive and two members of the board.'},\n",
       " {'score': 0.2614656686782837,\n",
       "  'token': 6722,\n",
       "  'token_str': ' Boeing',\n",
       "  'sequence': 'Shares in Boeing and plane-making giant Bombardier have fallen to a 10-year low following the departure of its chief executive and two members of the board.'},\n",
       " {'score': 0.023635413497686386,\n",
       "  'token': 15064,\n",
       "  'token_str': ' aerospace',\n",
       "  'sequence': 'Shares in aerospace and plane-making giant Bombardier have fallen to a 10-year low following the departure of its chief executive and two members of the board.'},\n",
       " {'score': 0.014581811614334583,\n",
       "  'token': 8537,\n",
       "  'token_str': ' airlines',\n",
       "  'sequence': 'Shares in airlines and plane-making giant Bombardier have fallen to a 10-year low following the departure of its chief executive and two members of the board.'},\n",
       " {'score': 0.005284391809254885,\n",
       "  'token': 9848,\n",
       "  'token_str': ' aviation',\n",
       "  'sequence': 'Shares in aviation and plane-making giant Bombardier have fallen to a 10-year low following the departure of its chief executive and two members of the board.'}]"
      ]
     },
     "execution_count": 17,
     "metadata": {},
     "output_type": "execute_result"
    }
   ],
   "source": [
    "text = 'Shares in <mask> and plane-making ' + \\\n",
    "  'giant Bombardier have fallen to a 10-year low following the departure ' + \\\n",
    "  'of its chief executive and two members of the board.'\n",
    "\n",
    "mlm(text)"
   ]
  },
  {
   "cell_type": "code",
   "execution_count": 18,
   "id": "0a9f9d8d-6fa4-4bb8-bea2-2f0541bc8acc",
   "metadata": {},
   "outputs": [
    {
     "name": "stdout",
     "output_type": "stream",
     "text": [
      "[{'score': 0.5513928532600403,\n",
      "  'sequence': 'Shares in train and plane-making giant Bombardier have fallen '\n",
      "              'to a 10-year low following the resignation of its chief '\n",
      "              'executive and two members of the board.',\n",
      "  'token': 6985,\n",
      "  'token_str': ' resignation'},\n",
      " {'score': 0.21090444922447205,\n",
      "  'sequence': 'Shares in train and plane-making giant Bombardier have fallen '\n",
      "              'to a 10-year low following the departure of its chief executive '\n",
      "              'and two members of the board.',\n",
      "  'token': 5824,\n",
      "  'token_str': ' departure'},\n",
      " {'score': 0.13041961193084717,\n",
      "  'sequence': 'Shares in train and plane-making giant Bombardier have fallen '\n",
      "              'to a 10-year low following the departures of its chief '\n",
      "              'executive and two members of the board.',\n",
      "  'token': 25624,\n",
      "  'token_str': ' departures'},\n",
      " {'score': 0.03651558980345726,\n",
      "  'sequence': 'Shares in train and plane-making giant Bombardier have fallen '\n",
      "              'to a 10-year low following the dismissal of its chief executive '\n",
      "              'and two members of the board.',\n",
      "  'token': 14289,\n",
      "  'token_str': ' dismissal'},\n",
      " {'score': 0.01463867723941803,\n",
      "  'sequence': 'Shares in train and plane-making giant Bombardier have fallen '\n",
      "              'to a 10-year low following the firing of its chief executive '\n",
      "              'and two members of the board.',\n",
      "  'token': 5834,\n",
      "  'token_str': ' firing'}]\n"
     ]
    }
   ],
   "source": [
    "text = 'Shares in train and plane-making ' + \\\n",
    "  'giant Bombardier have fallen to a 10-year low following the <mask> ' + \\\n",
    "  'of its chief executive and two members of the board.'\n",
    "\n",
    "pprint(mlm(text))"
   ]
  },
  {
   "cell_type": "code",
   "execution_count": 19,
   "id": "4a382403-d76e-4a61-8ac1-de939fde0ed2",
   "metadata": {},
   "outputs": [
    {
     "name": "stdout",
     "output_type": "stream",
     "text": [
      "[{'score': 0.9897111654281616,\n",
      "  'sequence': 'Shares in train and plane-making giant Bombardier have fallen '\n",
      "              'to a 10-year low following the departure of its chief executive '\n",
      "              'and two members of the board.',\n",
      "  'token': 1031,\n",
      "  'token_str': ' executive'},\n",
      " {'score': 0.006391061004251242,\n",
      "  'sequence': 'Shares in train and plane-making giant Bombardier have fallen '\n",
      "              'to a 10-year low following the departure of its chief '\n",
      "              'executives and two members of the board.',\n",
      "  'token': 4585,\n",
      "  'token_str': ' executives'},\n",
      " {'score': 0.0016239311080425978,\n",
      "  'sequence': 'Shares in train and plane-making giant Bombardier have fallen '\n",
      "              'to a 10-year low following the departure of its chief economist '\n",
      "              'and two members of the board.',\n",
      "  'token': 7473,\n",
      "  'token_str': ' economist'},\n",
      " {'score': 0.0007142738904803991,\n",
      "  'sequence': 'Shares in train and plane-making giant Bombardier have fallen '\n",
      "              'to a 10-year low following the departure of its chief officer '\n",
      "              'and two members of the board.',\n",
      "  'token': 1036,\n",
      "  'token_str': ' officer'},\n",
      " {'score': 0.0004217218956910074,\n",
      "  'sequence': 'Shares in train and plane-making giant Bombardier have fallen '\n",
      "              'to a 10-year low following the departure of its chief engineer '\n",
      "              'and two members of the board.',\n",
      "  'token': 8083,\n",
      "  'token_str': ' engineer'}]\n"
     ]
    }
   ],
   "source": [
    "text = 'Shares in train and plane-making ' + \\\n",
    "  'giant Bombardier have fallen to a 10-year low following the departure ' + \\\n",
    "  'of its chief <mask> and two members of the board.'\n",
    "\n",
    "pprint(mlm(text))"
   ]
  },
  {
   "cell_type": "code",
   "execution_count": 20,
   "id": "4a2e5a5c-b9b4-4a8b-a155-c0e437ddf89e",
   "metadata": {},
   "outputs": [
    {
     "name": "stdout",
     "output_type": "stream",
     "text": [
      "[{'score': 0.9420545697212219,\n",
      "  'sequence': 'Shares in train and plane-making giant Bombardier have fallen '\n",
      "              'to a 10-year low following the departure of its chief executive '\n",
      "              'and two members of the board.',\n",
      "  'token': 453,\n",
      "  'token_str': ' members'},\n",
      " {'score': 0.032231464982032776,\n",
      "  'sequence': 'Shares in train and plane-making giant Bombardier have fallen '\n",
      "              'to a 10-year low following the departure of its chief executive '\n",
      "              'and two thirds of the board.',\n",
      "  'token': 29193,\n",
      "  'token_str': ' thirds'},\n",
      " {'score': 0.011232919991016388,\n",
      "  'sequence': 'Shares in train and plane-making giant Bombardier have fallen '\n",
      "              'to a 10-year low following the departure of its chief executive '\n",
      "              'and two directors of the board.',\n",
      "  'token': 5392,\n",
      "  'token_str': ' directors'},\n",
      " {'score': 0.0030280486680567265,\n",
      "  'sequence': 'Shares in train and plane-making giant Bombardier have fallen '\n",
      "              'to a 10-year low following the departure of its chief executive '\n",
      "              'and two chairs of the board.',\n",
      "  'token': 10826,\n",
      "  'token_str': ' chairs'},\n",
      " {'score': 0.0019547869451344013,\n",
      "  'sequence': 'Shares in train and plane-making giant Bombardier have fallen '\n",
      "              'to a 10-year low following the departure of its chief executive '\n",
      "              'and two chiefs of the board.',\n",
      "  'token': 15201,\n",
      "  'token_str': ' chiefs'}]\n"
     ]
    }
   ],
   "source": [
    "text = 'Shares in train and plane-making ' + \\\n",
    "  'giant Bombardier have fallen to a 10-year low following the departure ' + \\\n",
    "  'of its chief executive and two <mask> of the board.'\n",
    "\n",
    "pprint(mlm(text))"
   ]
  },
  {
   "cell_type": "code",
   "execution_count": 21,
   "id": "97e8a208-b792-4168-b483-87d0f3cbd1c2",
   "metadata": {},
   "outputs": [],
   "source": [
    "# Exercise: Write a function that automatically masks and replaces words\n",
    "# in a whole document. You might choose which words to replace based on some\n",
    "# statistic, e.g. TF-IDF."
   ]
  },
  {
   "cell_type": "code",
   "execution_count": null,
   "id": "a84b5701-da56-4984-bc30-123588a8c422",
   "metadata": {},
   "outputs": [],
   "source": []
  }
 ],
 "metadata": {
  "kernelspec": {
   "display_name": "Python 3 (ipykernel)",
   "language": "python",
   "name": "python3"
  },
  "language_info": {
   "codemirror_mode": {
    "name": "ipython",
    "version": 3
   },
   "file_extension": ".py",
   "mimetype": "text/x-python",
   "name": "python",
   "nbconvert_exporter": "python",
   "pygments_lexer": "ipython3",
   "version": "3.9.16"
  }
 },
 "nbformat": 4,
 "nbformat_minor": 5
}
